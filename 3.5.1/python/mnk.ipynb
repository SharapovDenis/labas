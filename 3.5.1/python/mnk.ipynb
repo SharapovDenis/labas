{
 "cells": [
  {
   "cell_type": "code",
   "execution_count": 15,
   "source": [
    "import numpy as np\n",
    "import matplotlib.pyplot as plt\n",
    "\n",
    "#y = a + bx\n",
    "\n",
    "#n(I)\n",
    "\n",
    "x = np.array([5.0, 3.0, 1.5])\n",
    "y = np.array([67.9, 45.0, 30.0])\n",
    "\n",
    "if np.size(x) == np.size(y):\n",
    "    N = np.size(x)\n",
    "    \n",
    "    xy = x * y\n",
    "    xy_avg = np.sum(xy) / N\n",
    "    \n",
    "    x_avg = np.sum(x) / N\n",
    "    y_avg = np.sum(y) / N\n",
    "    \n",
    "    x_sqr = x * x\n",
    "    x_sqr_avg = np.sum(x_sqr) / N\n",
    "    \n",
    "    y_sqr = y * y\n",
    "    y_sqr_avg = np.sum(y_sqr) / N\n",
    "    \n",
    "    b = (xy_avg - x_avg*y_avg) / (x_sqr_avg - x_avg**2)\n",
    "    a = y_avg - b*x_avg\n",
    "    \n",
    "    sigma_b = 1/np.sqrt(N) * np.sqrt( (y_sqr_avg - y_avg**2) / (x_sqr_avg - x_avg**2) - b**2 )\n",
    "    sigma_a = sigma_b * np.sqrt( x_sqr_avg - x_avg**2 )\n",
    "    \n",
    "    print(\"y = a + bx\")\n",
    "    print(f\"b = {b}, sigma_b = {sigma_b}\")\n",
    "    print(f\"a = {a}, sigma_a = {sigma_a}\")\n",
    "    \n",
    "    new_y = a + b*x\n",
    "    \n",
    "    figure = plt.figure()\n",
    "    ax = figure.add_subplot()\n",
    "    \n",
    "   # мнк\n",
    "    ax.plot(x, new_y, linewidth=1, color=\"k\", ls=\"-\", ms=0)\n",
    "    \n",
    "    # точки зависимости\n",
    "    ax.errorbar(x, y, yerr=[8.0, 5.0, 4.0], marker=\"\", ls=\"\", ecolor=\"red\", elinewidth=1)\n",
    "    \n",
    "    ax.set_xlabel(r\"$J,$ мА\", fontsize=12)\n",
    "    ax.set_ylabel(r\"$n\\cdot 10^{13},$ м$^{-3}$\", fontsize=12)\n",
    "    \n",
    "    #major_ticks_x = np.arange(1, 5.0, 0.5)\n",
    "    #minor_ticks_x = np.arange(1, 4, 0.1)\n",
    "    \n",
    "    #major_ticks_y = np.arange(27, 33, 1)\n",
    "    #minor_ticks_y = np.arange(27, 33, 0.2)  \n",
    "      \n",
    "    #ax.set_xticks(major_ticks_x)\n",
    "    #ax.set_xticks(minor_ticks_x, minor=True)\n",
    "    #ax.set_yticks(major_ticks_y)\n",
    "    #ax.set_yticks(minor_ticks_y, minor=True)\n",
    "    \n",
    "    ax.grid()\n",
    "    \n",
    "    \n"
   ],
   "outputs": [
    {
     "output_type": "stream",
     "name": "stdout",
     "text": [
      "y = a + bx\n",
      "b = 10.862162162162157, sigma_b = 0.23513513513524878\n",
      "a = 13.236486486486505, sigma_a = 0.337118152357239\n"
     ]
    },
    {
     "output_type": "display_data",
     "data": {
      "image/png": "[encoded data removed]",
      "text/plain": [
       "<Figure size 432x288 with 1 Axes>"
      ]
     },
     "metadata": {
      "needs_background": "light"
     }
    }
   ],
   "metadata": {}
  }
 ],
 "metadata": {
  "orig_nbformat": 4,
  "language_info": {
   "name": "python",
   "version": "3.8.10",
   "mimetype": "text/x-python",
   "codemirror_mode": {
    "name": "ipython",
    "version": 3
   },
   "pygments_lexer": "ipython3",
   "nbconvert_exporter": "python",
   "file_extension": ".py"
  },
  "kernelspec": {
   "name": "python3",
   "display_name": "Python 3.8.10 64-bit"
  },
  "interpreter": {
   "hash": "916dbcbb3f70747c44a77c7bcd40155683ae19c65e1c03b4aa3499c5328201f1"
  }
 },
 "nbformat": 4,
 "nbformat_minor": 2
}