{
 "cells": [
  {
   "cell_type": "code",
   "execution_count": 41,
   "source": [
    "import numpy as np\n",
    "import matplotlib.pyplot as plt\n",
    "\n",
    "#y = a + bx\n",
    "\n",
    "# markers in errorbar\n",
    "x1 = np.array([1.24, 1.44, 1.6, 1.84, 2.0, 2.2, 2.36, 2.6, 2.84, 3.08, 3.36, 3.56, 3.76])\n",
    "y1 = np.array([32.09, 31.76, 31.33, 30.06, 29.64, 29.15, 28.76, 28.25, 27.84, 27.61, 27.33, 27.16, 27.08])\n",
    "\n",
    "# mnk for these parameters\n",
    "x = np.array([1.24, 1.44, 1.6, 1.84])\n",
    "y = np.array([32.09, 31.76, 31.33, 30.06])\n",
    "\n",
    "if np.size(x) != np.size(y):\n",
    "    print(\"N_x = \", np.size(x), \"N_y =\", np.size(y))\n",
    "\n",
    "else:\n",
    "    N = np.size(x)\n",
    "    \n",
    "    xy = x * y\n",
    "    xy_avg = np.sum(xy) / N\n",
    "    \n",
    "    x_avg = np.sum(x) / N\n",
    "    y_avg = np.sum(y) / N\n",
    "    \n",
    "    x_sqr = x * x\n",
    "    x_sqr_avg = np.sum(x_sqr) / N\n",
    "    \n",
    "    y_sqr = y * y\n",
    "    y_sqr_avg = np.sum(y_sqr) / N\n",
    "    \n",
    "    b = (xy_avg - x_avg*y_avg) / (x_sqr_avg - x_avg**2)\n",
    "    a = y_avg - b*x_avg\n",
    "    \n",
    "    sigma_b = 1/np.sqrt(N) * np.sqrt( (y_sqr_avg - y_avg**2) / (x_sqr_avg - x_avg**2) - b**2 )\n",
    "    sigma_a = sigma_b * np.sqrt( x_sqr_avg - x_avg**2 )\n",
    "    \n",
    "    print(\"y = a + bx\")\n",
    "    print(f\"b = {b}, sigma_b = {sigma_b}\")\n",
    "    print(f\"a = {a}, sigma_a = {sigma_a}\")\n",
    "    \n",
    "    x = np.array([1.15, 1.24, 1.44, 1.6, 1.84])\n",
    "    \n",
    "    new_y = a + b*x\n",
    "    \n",
    "    figure = plt.figure()\n",
    "    ax = figure.add_subplot()\n",
    "    \n",
    "    \n",
    "    # мнк\n",
    "    ax.plot(x, new_y, linewidth=1, color=\"k\", ls=\"--\", ms=0)\n",
    "    \n",
    "    # точки зависимости\n",
    "    ax.errorbar(x1, y1, xerr=0.02, marker=\"\", ls=\"\", ecolor=\"red\", elinewidth=1)\n",
    "    \n",
    "    \n",
    "    major_ticks_y = np.arange(27, 33, 1)\n",
    "    minor_ticks_y = np.arange(27, 33, 0.2)\n",
    "    \n",
    "    major_ticks_x = np.arange(1, 4, 0.5)\n",
    "    minor_ticks_x = np.arange(1, 4, 0.1)  \n",
    "      \n",
    "    ax.set_xticks(major_ticks_x)\n",
    "    ax.set_xticks(minor_ticks_x, minor=True)\n",
    "    ax.set_yticks(major_ticks_y)\n",
    "    ax.set_yticks(minor_ticks_y, minor=True)\n",
    "    \n",
    "    ax.grid(which='both')\n",
    "    \n",
    "    ax.set_xlabel(r\"$I,$ мА\", fontsize=12)\n",
    "    ax.set_ylabel(r\"$U,$ В\", fontsize=12)\n",
    "    \n"
   ],
   "outputs": [
    {
     "output_type": "stream",
     "name": "stdout",
     "text": [
      "y = a + bx\n",
      "b = -3.3788819875775147, sigma_b = 0.46634375637038433\n",
      "a = 36.479689440993596, sigma_a = 0.10248958438203648\n"
     ]
    },
    {
     "output_type": "display_data",
     "data": {
      "image/png": "[encoded data removed]",
      "text/plain": [
       "<Figure size 432x288 with 1 Axes>"
      ]
     },
     "metadata": {
      "needs_background": "light"
     }
    }
   ],
   "metadata": {}
  }
 ],
 "metadata": {
  "orig_nbformat": 4,
  "language_info": {
   "name": "python",
   "version": "3.8.10",
   "mimetype": "text/x-python",
   "codemirror_mode": {
    "name": "ipython",
    "version": 3
   },
   "pygments_lexer": "ipython3",
   "nbconvert_exporter": "python",
   "file_extension": ".py"
  },
  "kernelspec": {
   "name": "python3",
   "display_name": "Python 3.8.10 64-bit"
  },
  "interpreter": {
   "hash": "916dbcbb3f70747c44a77c7bcd40155683ae19c65e1c03b4aa3499c5328201f1"
  }
 },
 "nbformat": 4,
 "nbformat_minor": 2
}