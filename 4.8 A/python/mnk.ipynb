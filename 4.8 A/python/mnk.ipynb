{
 "cells": [
  {
   "cell_type": "code",
   "execution_count": 34,
   "source": [
    "import numpy as np\n",
    "import matplotlib.pyplot as plt\n",
    "\n",
    "#y = a + bx\n",
    "\n",
    "x = np.array([1,2,3,4,5])\n",
    "y = np.array([1,2,3,4,5])\n",
    "\n",
    "x1 = np.array([10, 12, 15, 20, 25, 30, 35, 40, 45, 50, 55, 60, 65, 67])\n",
    "I = np.array([270, 245, 210, 185, 160, 140, 130, 110, 90, 70, 50, 25, 10, 10])\n",
    "IL = np.array([0, 50, 80, 90, 100, 120, 180, 200, 210, 230, 250, 270, 300, 320])\n",
    "IC = np.array([330, 320, 310, 310, 310, 300, 310, 300, 310, 310, 310, 300, 310, 320])\n",
    "\n",
    "print(np.size(x1))\n",
    "print(np.size(I))\n",
    "print(np.size(IC))\n",
    "print(np.size(IL))\n",
    "\n",
    "\n",
    "if np.size(x) == np.size(y):\n",
    "    N = np.size(x)\n",
    "    \n",
    "    xy = x * y\n",
    "    xy_avg = np.sum(xy) / N\n",
    "    \n",
    "    x_avg = np.sum(x) / N\n",
    "    y_avg = np.sum(y) / N\n",
    "    \n",
    "    x_sqr = x * x\n",
    "    x_sqr_avg = np.sum(x_sqr) / N\n",
    "    \n",
    "    y_sqr = y * y\n",
    "    y_sqr_avg = np.sum(y_sqr) / N\n",
    "    \n",
    "    b = (xy_avg - x_avg*y_avg) / (x_sqr_avg - x_avg**2)\n",
    "    a = y_avg - b*x_avg\n",
    "    \n",
    "    sigma_b = 1/np.sqrt(N) * np.sqrt( (y_sqr_avg - y_avg**2) / (x_sqr_avg - x_avg**2) - b**2 )\n",
    "    sigma_a = sigma_b * np.sqrt( x_sqr_avg - x_avg**2 )\n",
    "    \n",
    "    print(\"y = a + bx\")\n",
    "    print(f\"b = {b}, sigma_b = {sigma_b}\")\n",
    "    print(f\"a = {a}, sigma_a = {sigma_a}\")\n",
    "    \n",
    "    new_y = a + b*x\n",
    "    \n",
    "    figure = plt.figure()\n",
    "    ax = figure.add_subplot()\n",
    "    \n",
    "    # мнк\n",
    "    #ax.plot(x, new_y, linewidth=1, color=\"k\", ls=\"-\", ms=0)\n",
    "    \n",
    "    # точки зависимости\n",
    "    ax.errorbar(x1, I, xerr=0.5, yerr=2.5, marker=\"\", lw=1, ecolor=\"k\", elinewidth=1, label=r\"$I=I$\")\n",
    "    \n",
    "    ax.errorbar(x1, IC, xerr=0.5, yerr=2.5, marker=\"\", lw=1, ecolor=\"k\", elinewidth=1, label=r\"$I = I_C$\")\n",
    "    \n",
    "    ax.errorbar(x1, IL, xerr=0.5, yerr=2.5, marker=\"\", lw=1, ecolor=\"k\", elinewidth=1, label=r\"$I = I_L$\")\n",
    "    \n",
    "    ax.set_xlabel(r\"$x,$ мм\", fontsize=12)\n",
    "    ax.set_ylabel(r\"$I,$ мА\", fontsize=12)\n",
    "    \n",
    "    ax.legend(bbox_to_anchor=(1, 1))\n",
    "    ax.grid()\n",
    "    \n",
    "    #major_ticks = np.arange(0, 101, 20)\n",
    "    #minor_ticks = np.arange(0, 101, 5)\n",
    "    \n",
    "    #ax.set_xticks(major_ticks)\n",
    "    #ax.set_xticks(minor_ticks, minor=True)\n",
    "    #ax.set_yticks(major_ticks)\n",
    "    #ax.set_yticks(minor_ticks, minor=True)\n",
    "    \n",
    "    #ax.grid(which='both')\n",
    "    \n",
    "    \n"
   ],
   "outputs": [
    {
     "output_type": "stream",
     "name": "stdout",
     "text": [
      "14\n",
      "14\n",
      "14\n",
      "14\n",
      "y = a + bx\n",
      "b = 1.0, sigma_b = 0.0\n",
      "a = 0.0, sigma_a = 0.0\n"
     ]
    },
    {
     "output_type": "display_data",
     "data": {
      "image/png": "[encoded data removed]",
      "text/plain": [
       "<Figure size 432x288 with 1 Axes>"
      ]
     },
     "metadata": {
      "needs_background": "light"
     }
    }
   ],
   "metadata": {}
  }
 ],
 "metadata": {
  "orig_nbformat": 4,
  "language_info": {
   "name": "python",
   "version": "3.8.10",
   "mimetype": "text/x-python",
   "codemirror_mode": {
    "name": "ipython",
    "version": 3
   },
   "pygments_lexer": "ipython3",
   "nbconvert_exporter": "python",
   "file_extension": ".py"
  },
  "kernelspec": {
   "name": "python3",
   "display_name": "Python 3.8.10 64-bit"
  },
  "interpreter": {
   "hash": "916dbcbb3f70747c44a77c7bcd40155683ae19c65e1c03b4aa3499c5328201f1"
  }
 },
 "nbformat": 4,
 "nbformat_minor": 2
}